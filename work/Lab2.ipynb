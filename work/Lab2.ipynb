{
 "cells": [
  {
   "cell_type": "markdown",
   "metadata": {},
   "source": [
    "# Computer Vision\n",
    "\n",
    "## Lab 2\n"
   ]
  },
  {
   "cell_type": "markdown",
   "metadata": {},
   "source": [
    "### Imports\n"
   ]
  },
  {
   "cell_type": "code",
   "execution_count": 2,
   "metadata": {},
   "outputs": [],
   "source": [
    "# Computation\n",
    "import cv2\n",
    "import numpy as np\n",
    "\n",
    "# Plotting\n",
    "import matplotlib.pyplot as plt\n",
    "\n",
    "# Typing\n",
    "import typing as types"
   ]
  },
  {
   "cell_type": "markdown",
   "metadata": {},
   "source": [
    "### Section 1\n"
   ]
  },
  {
   "cell_type": "markdown",
   "metadata": {},
   "source": [
    "#### Gaussian\n"
   ]
  },
  {
   "cell_type": "code",
   "execution_count": 3,
   "metadata": {},
   "outputs": [
    {
     "data": {
      "text/plain": [
       "array([[2.37941181e-13, 6.21430143e-13, 1.55934869e-12, ...,\n",
       "        3.75943329e-12, 1.55934869e-12, 6.21430143e-13],\n",
       "       [6.21430143e-13, 1.62298691e-12, 4.07254546e-12, ...,\n",
       "        9.81849866e-12, 4.07254546e-12, 1.62298691e-12],\n",
       "       [1.55934869e-12, 4.07254546e-12, 1.02191992e-11, ...,\n",
       "        2.46374643e-11, 1.02191992e-11, 4.07254546e-12],\n",
       "       ...,\n",
       "       [3.75943329e-12, 9.81849866e-12, 2.46374643e-11, ...,\n",
       "        5.93984555e-11, 2.46374643e-11, 9.81849866e-12],\n",
       "       [1.55934869e-12, 4.07254546e-12, 1.02191992e-11, ...,\n",
       "        2.46374643e-11, 1.02191992e-11, 4.07254546e-12],\n",
       "       [6.21430143e-13, 1.62298691e-12, 4.07254546e-12, ...,\n",
       "        9.81849866e-12, 4.07254546e-12, 1.62298691e-12]])"
      ]
     },
     "execution_count": 3,
     "metadata": {},
     "output_type": "execute_result"
    },
    {
     "data": {
      "image/png": "[encoded data removed]",
      "text/plain": [
       "<Figure size 432x288 with 1 Axes>"
      ]
     },
     "metadata": {
      "needs_background": "light"
     },
     "output_type": "display_data"
    }
   ],
   "source": [
    "def make_Gaussian(sigma: int, shape: tuple[int, int]):\n",
    "    var = sigma ** 2\n",
    "\n",
    "    def Gaussian(x, y):\n",
    "        centred_x = x - shape[0] / 2\n",
    "        centred_y = y - shape[1] / 2\n",
    "        return (1/(2 * np.pi * var)) * np.exp(-((centred_x ** 2 + centred_y ** 2) / (2 * var)))\n",
    "\n",
    "    return np.fromfunction(Gaussian, shape=shape)\n",
    "\n",
    "kernel_shape = (49, 49)\n",
    "\n",
    "gaussian = make_Gaussian(sigma=5, shape=kernel_shape)\n",
    "plt.imshow(gaussian)\n",
    "gaussian"
   ]
  },
  {
   "cell_type": "markdown",
   "metadata": {},
   "source": [
    "#### Laplacian of Gaussian (LoG)"
   ]
  },
  {
   "cell_type": "code",
   "execution_count": 4,
   "metadata": {},
   "outputs": [
    {
     "data": {
      "text/plain": [
       "array([[2.79810854e-30, 3.86354990e-29, 4.77390899e-28, ...,\n",
       "        5.27913636e-27, 4.77390899e-28, 3.86354990e-29],\n",
       "       [3.86354990e-29, 5.32513197e-28, 6.56759562e-27, ...,\n",
       "        7.24853695e-26, 6.56759562e-27, 5.32513197e-28],\n",
       "       [4.77390899e-28, 6.56759562e-27, 8.08412060e-26, ...,\n",
       "        8.90407585e-25, 8.08412060e-26, 6.56759562e-27],\n",
       "       ...,\n",
       "       [5.27913636e-27, 7.24853695e-26, 8.90407585e-25, ...,\n",
       "        9.78618163e-24, 8.90407585e-25, 7.24853695e-26],\n",
       "       [4.77390899e-28, 6.56759562e-27, 8.08412060e-26, ...,\n",
       "        8.90407585e-25, 8.08412060e-26, 6.56759562e-27],\n",
       "       [3.86354990e-29, 5.32513197e-28, 6.56759562e-27, ...,\n",
       "        7.24853695e-26, 6.56759562e-27, 5.32513197e-28]])"
      ]
     },
     "execution_count": 4,
     "metadata": {},
     "output_type": "execute_result"
    },
    {
     "data": {
      "image/png": "[encoded data removed]",
      "text/plain": [
       "<Figure size 432x288 with 1 Axes>"
      ]
     },
     "metadata": {
      "needs_background": "light"
     },
     "output_type": "display_data"
    }
   ],
   "source": [
    "def make_LoG(sigma: int, shape: tuple[int, int]):\n",
    "    var = sigma ** 2\n",
    "\n",
    "    def log(x, y):\n",
    "        centred_x = x - shape[0] / 2\n",
    "        centred_y = y - shape[1] / 2\n",
    "        exponent = -((centred_x ** 2 + centred_y ** 2) / (2 * var))\n",
    "        return -(1/(np.pi * (var ** 2))) * (1 + exponent) * np.exp(exponent)\n",
    "\n",
    "    return np.fromfunction(log, shape)\n",
    "\n",
    "\n",
    "kernel_shape = (49, 49)\n",
    "\n",
    "LoG = make_LoG(sigma=3, shape=kernel_shape)\n",
    "plt.imshow(LoG)\n",
    "LoG\n"
   ]
  },
  {
   "cell_type": "markdown",
   "metadata": {},
   "source": [
    "#### Difference of Gaussians (HoG)"
   ]
  },
  {
   "cell_type": "code",
   "execution_count": 5,
   "metadata": {},
   "outputs": [
    {
     "data": {
      "text/plain": [
       "array([[-5.00732772e-05, -5.05562950e-05, -5.10235581e-05, ...,\n",
       "        -5.14745447e-05, -5.10235581e-05, -5.05562950e-05],\n",
       "       [-5.05562950e-05, -5.10439716e-05, -5.15157405e-05, ...,\n",
       "        -5.19710739e-05, -5.15157405e-05, -5.10439716e-05],\n",
       "       [-5.10235581e-05, -5.15157405e-05, -5.19918660e-05, ...,\n",
       "        -5.24513992e-05, -5.19918660e-05, -5.15157405e-05],\n",
       "       ...,\n",
       "       [-5.14745447e-05, -5.19710739e-05, -5.24513992e-05, ...,\n",
       "        -5.29149738e-05, -5.24513992e-05, -5.19710739e-05],\n",
       "       [-5.10235581e-05, -5.15157405e-05, -5.19918660e-05, ...,\n",
       "        -5.24513992e-05, -5.19918660e-05, -5.15157405e-05],\n",
       "       [-5.05562950e-05, -5.10439716e-05, -5.15157405e-05, ...,\n",
       "        -5.19710739e-05, -5.15157405e-05, -5.10439716e-05]])"
      ]
     },
     "execution_count": 5,
     "metadata": {},
     "output_type": "execute_result"
    },
    {
     "data": {
      "image/png": "[encoded data removed]",
      "text/plain": [
       "<Figure size 432x288 with 1 Axes>"
      ]
     },
     "metadata": {
      "needs_background": "light"
     },
     "output_type": "display_data"
    }
   ],
   "source": [
    "def make_DoG(sigma: int, K: int, shape: tuple[int, int]):\n",
    "    var = sigma ** 2\n",
    "    coeff = 1/(2 * np.pi * var)\n",
    "    \n",
    "    if not K > 1:\n",
    "        raise ValueError(\"K must be greater than 1.\")\n",
    "\n",
    "    def DoG(x, y):\n",
    "        centred_x = x - shape[0] / 2\n",
    "        centred_y = y - shape[1] / 2\n",
    "        exponent = -((centred_x ** 2 + centred_y ** 2) / (2 * var))\n",
    "        \n",
    "        return coeff * np.exp(exponent) - coeff * (K ** -2) * np.exp(exponent * (K ** -2))\n",
    "\n",
    "    return np.fromfunction(DoG, shape=kernel_shape)\n",
    "\n",
    "\n",
    "kernel_shape = (49, 49)\n",
    "\n",
    "DoG = make_DoG(sigma=5, K=10, shape=kernel_shape)\n",
    "plt.imshow(DoG)\n",
    "DoG\n"
   ]
  },
  {
   "cell_type": "markdown",
   "metadata": {},
   "source": [
    "### Section 2"
   ]
  },
  {
   "cell_type": "code",
   "execution_count": 50,
   "metadata": {},
   "outputs": [
    {
     "data": {
      "text/plain": [
       "<matplotlib.image.AxesImage at 0x20b27d23850>"
      ]
     },
     "execution_count": 50,
     "metadata": {},
     "output_type": "execute_result"
    },
    {
     "data": {
      "image/png": "[encoded data removed]",
      "text/plain": [
       "<Figure size 432x288 with 1 Axes>"
      ]
     },
     "metadata": {
      "needs_background": "light"
     },
     "output_type": "display_data"
    }
   ],
   "source": [
    "def make_EdgeBarFilter(theta: int,\n",
    "                       sigma_x: int,\n",
    "                       sigma_y: int,\n",
    "                       shape: tuple[int, int],\n",
    "                       type: types.Literal['edge', 'bar'] = 'edge'):\n",
    "\n",
    "    def f(x, sigma):\n",
    "        return ((2 * np.pi * sigma) ** (-0.5)) * np.exp(-(x ** 2) / (2 * (sigma ** 2)))\n",
    "\n",
    "    def x_prime(x, y):\n",
    "        return x * np.cos(theta) - y * np.sin(theta)\n",
    "\n",
    "    def y_prime(x, y):\n",
    "        return x * np.sin(theta) + y * np.cos(theta)\n",
    "\n",
    "    def g(x, y):\n",
    "        return f(x=x_prime(x, y), sigma=sigma_x) * f(x=y_prime(x, y), sigma=sigma_y)\n",
    "\n",
    "    def first_dir(x, y):\n",
    "        centred_x = x - shape[0] / 2\n",
    "        centred_y = y - shape[1] / 2\n",
    "        return g(centred_x, centred_y) * ((-y_prime(centred_x, centred_y)) / (sigma_y ** 2))\n",
    "\n",
    "    def second_dir(x, y):\n",
    "        centred_x = x - shape[0] / 2\n",
    "        centred_y = y - shape[1] / 2\n",
    "        return g(centred_x, centred_y) * (((y_prime(centred_x, centred_y) ** 2) - (sigma_y ** 2)) / (sigma_y ** 4))\n",
    "\n",
    "    if type == 'bar':\n",
    "        return np.fromfunction(second_dir, shape=shape)\n",
    "        \n",
    "    return np.fromfunction(first_dir, shape=shape)"
   ]
  },
  {
   "cell_type": "code",
   "execution_count": 42,
   "metadata": {},
   "outputs": [],
   "source": [
    "sigma_set = np.array([(3, 1), (6, 2), (12, 4)])\n",
    "theta_set = np.arange(6) * (np.pi/6)\n",
    "type_set = ['edge', 'bar']\n",
    "kernel_shape = (49, 49)\n",
    "\n",
    "rfs = [make_EdgeBarFilter(theta, sigma[0], sigma[1], kernel_shape, type)\n",
    "               for theta in theta_set for sigma in sigma_set for type in type_set]"
   ]
  },
  {
   "cell_type": "code",
   "execution_count": 43,
   "metadata": {},
   "outputs": [],
   "source": [
    "rfs.extend([gaussian, LoG])"
   ]
  }
 ],
 "metadata": {
  "interpreter": {
   "hash": "2c25aa7b5cf9c1d9a602f0744069d68c1dd896b906bf51e27cdcfc1add0406e2"
  },
  "kernelspec": {
   "display_name": "Python 3.10.4 ('.venv': venv)",
   "language": "python",
   "name": "python3"
  },
  "language_info": {
   "codemirror_mode": {
    "name": "ipython",
    "version": 3
   },
   "file_extension": ".py",
   "mimetype": "text/x-python",
   "name": "python",
   "nbconvert_exporter": "python",
   "pygments_lexer": "ipython3",
   "version": "3.10.4"
  },
  "orig_nbformat": 4
 },
 "nbformat": 4,
 "nbformat_minor": 2
}
