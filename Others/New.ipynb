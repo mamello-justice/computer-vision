{
 "cells": [
  {
   "cell_type": "code",
   "execution_count": 1,
   "metadata": {},
   "outputs": [],
   "source": [
    "import numpy as np"
   ]
  },
  {
   "cell_type": "code",
   "execution_count": 2,
   "metadata": {},
   "outputs": [
    {
     "data": {
      "text/plain": [
       "array([[ 1,  5,  7, 21,  9],\n",
       "       [14, 25, 40,  3, 15],\n",
       "       [40, 26,  9, 20, 42],\n",
       "       [29, 29,  2, 31, 13],\n",
       "       [22,  4, 47,  4, 29]])"
      ]
     },
     "execution_count": 2,
     "metadata": {},
     "output_type": "execute_result"
    }
   ],
   "source": [
    "I = np.array([1,5,7,21,9,14,25,40,3,15,40,26,9,20,42,29,29,2,31,13,22,4,47,4,29]).reshape((5,-1))\n",
    "I"
   ]
  },
  {
   "cell_type": "code",
   "execution_count": 24,
   "metadata": {},
   "outputs": [],
   "source": [
    "def integral_image_brute_force(I):\n",
    "    J = np.zeros(I.shape)\n",
    "    for i in range(J.shape[0]):\n",
    "        for j in range(J.shape[1]):\n",
    "            J[i,j] = np.sum(I[0:i+1, 0:j+1])\n",
    "    return J"
   ]
  },
  {
   "cell_type": "code",
   "execution_count": 25,
   "metadata": {},
   "outputs": [
    {
     "data": {
      "text/plain": [
       "array([[  1.,   6.,  13.,  34.,  43.],\n",
       "       [ 15.,  45.,  92., 116., 140.],\n",
       "       [ 55., 111., 167., 211., 277.],\n",
       "       [ 84., 169., 227., 302., 381.],\n",
       "       [106., 195., 300., 379., 487.]])"
      ]
     },
     "execution_count": 25,
     "metadata": {},
     "output_type": "execute_result"
    }
   ],
   "source": [
    "integral_image_brute_force(I)"
   ]
  },
  {
   "cell_type": "code",
   "execution_count": 26,
   "metadata": {},
   "outputs": [],
   "source": [
    "def integral_image_smart(I):\n",
    "    J = np.zeros(I.shape)\n",
    "    \n",
    "    J[0, 0] = I[0, 0]\n",
    "    \n",
    "    for i in range(1, J.shape[0]):\n",
    "        J[i, 0] = J[i-1, 0] + I[i, 0]\n",
    "        \n",
    "    for j in range(1, J.shape[1]):\n",
    "        J[0, j] = J[0, j-1] + I[0, j]\n",
    "    \n",
    "    for i in range(1, J.shape[0]):\n",
    "        for j in range(1, J.shape[1]):\n",
    "            J[i,j] = I[i, j] + J[i-1,j] + J[i, j-1] - J[i-1, j-1]\n",
    "    return J"
   ]
  },
  {
   "cell_type": "code",
   "execution_count": 27,
   "metadata": {},
   "outputs": [
    {
     "data": {
      "text/plain": [
       "array([[  1.,   6.,  13.,  34.,  43.],\n",
       "       [ 15.,  45.,  92., 116., 140.],\n",
       "       [ 55., 111., 167., 211., 277.],\n",
       "       [ 84., 169., 227., 302., 381.],\n",
       "       [106., 195., 300., 379., 487.]])"
      ]
     },
     "execution_count": 27,
     "metadata": {},
     "output_type": "execute_result"
    }
   ],
   "source": [
    "integral_image_smart(I)"
   ]
  }
 ],
 "metadata": {
  "interpreter": {
   "hash": "2c25aa7b5cf9c1d9a602f0744069d68c1dd896b906bf51e27cdcfc1add0406e2"
  },
  "kernelspec": {
   "display_name": "Python 3.10.4 ('.venv': venv)",
   "language": "python",
   "name": "python3"
  },
  "language_info": {
   "codemirror_mode": {
    "name": "ipython",
    "version": 3
   },
   "file_extension": ".py",
   "mimetype": "text/x-python",
   "name": "python",
   "nbconvert_exporter": "python",
   "pygments_lexer": "ipython3",
   "version": "3.10.4"
  },
  "orig_nbformat": 4
 },
 "nbformat": 4,
 "nbformat_minor": 2
}
