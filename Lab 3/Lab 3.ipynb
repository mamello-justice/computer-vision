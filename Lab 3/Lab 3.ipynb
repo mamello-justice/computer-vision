{
 "cells": [
  {
   "cell_type": "markdown",
   "metadata": {},
   "source": [
    "# Computer Vision\n",
    "\n",
    "## Lab 3"
   ]
  },
  {
   "cell_type": "markdown",
   "metadata": {},
   "source": [
    "### Imports"
   ]
  },
  {
   "cell_type": "code",
   "execution_count": 1,
   "metadata": {},
   "outputs": [],
   "source": [
    "# Computation\n",
    "import numpy as np\n",
    "import cv2\n",
    "from skimage import color\n",
    "\n",
    "# Plotting\n",
    "import matplotlib.pyplot as plt"
   ]
  },
  {
   "cell_type": "markdown",
   "metadata": {},
   "source": [
    "### Utils"
   ]
  },
  {
   "cell_type": "code",
   "execution_count": 3,
   "metadata": {},
   "outputs": [],
   "source": [
    "def make_EdgeBarFilter(theta, sigma_x, sigma_y, shape, type = 'edge'):\n",
    "\n",
    "    def f(x, sigma):\n",
    "        return ((2 * np.pi * sigma) ** (-0.5)) * np.exp(-(x ** 2) / (2 * (sigma ** 2)))\n",
    "\n",
    "    def x_prime(x, y):\n",
    "        return x * np.cos(theta) - y * np.sin(theta)\n",
    "\n",
    "    def y_prime(x, y):\n",
    "        return x * np.sin(theta) + y * np.cos(theta)\n",
    "\n",
    "    def g(x, y):\n",
    "        return f(x=x_prime(x, y), sigma=sigma_x) * f(x=y_prime(x, y), sigma=sigma_y)\n",
    "\n",
    "    def first_dir(x, y):\n",
    "        centred_x = x - shape[0] / 2\n",
    "        centred_y = y - shape[1] / 2\n",
    "        return g(centred_x, centred_y) * ((-y_prime(centred_x, centred_y)) / (sigma_y ** 2))\n",
    "\n",
    "    def second_dir(x, y):\n",
    "        centred_x = x - shape[0] / 2\n",
    "        centred_y = y - shape[1] / 2\n",
    "        return g(centred_x, centred_y) * (((y_prime(centred_x, centred_y) ** 2) - (sigma_y ** 2)) / (sigma_y ** 4))\n",
    "\n",
    "    if type == 'bar':\n",
    "        return np.fromfunction(second_dir, shape=shape)\n",
    "        \n",
    "    return np.fromfunction(first_dir, shape=shape)\n",
    "\n",
    "sigma_set = np.array([(3, 1), (6, 2), (12, 4)])\n",
    "theta_set = np.arange(6) * (np.pi/6)\n",
    "type_set = ['edge', 'bar']\n",
    "kernel_shape = (49, 49)\n",
    "\n",
    "rfs = [[make_EdgeBarFilter(theta, sigma[0], sigma[1], kernel_shape, type)\n",
    "       for theta in theta_set]\n",
    "       for type in type_set for sigma in sigma_set]"
   ]
  },
  {
   "cell_type": "markdown",
   "metadata": {},
   "source": [
    "### Section 1 - PCA (Principal Component Analysis)"
   ]
  },
  {
   "cell_type": "markdown",
   "metadata": {},
   "source": [
    "#### Features"
   ]
  },
  {
   "cell_type": "code",
   "execution_count": null,
   "metadata": {},
   "outputs": [],
   "source": [
    "train_image = np.array(cv2.imread(\"./image-35.jpg\")[:,:,::-1], dtype=np.float32) / 255\n",
    "train_hsv = color.rgb2hsv(train_image)\n",
    "\n"
   ]
  },
  {
   "cell_type": "markdown",
   "metadata": {},
   "source": [
    "### Section 2 - Including a Foreground Distribution"
   ]
  }
 ],
 "metadata": {
  "interpreter": {
   "hash": "2c25aa7b5cf9c1d9a602f0744069d68c1dd896b906bf51e27cdcfc1add0406e2"
  },
  "kernelspec": {
   "display_name": "Python 3.10.4 ('.venv': venv)",
   "language": "python",
   "name": "python3"
  },
  "language_info": {
   "codemirror_mode": {
    "name": "ipython",
    "version": 3
   },
   "file_extension": ".py",
   "mimetype": "text/x-python",
   "name": "python",
   "nbconvert_exporter": "python",
   "pygments_lexer": "ipython3",
   "version": "3.10.4"
  },
  "orig_nbformat": 4
 },
 "nbformat": 4,
 "nbformat_minor": 2
}
